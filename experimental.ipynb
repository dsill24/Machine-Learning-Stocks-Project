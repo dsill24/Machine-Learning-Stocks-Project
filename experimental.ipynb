{
 "cells": [
  {
   "cell_type": "code",
   "execution_count": null,
   "metadata": {},
   "outputs": [],
   "source": [
    "from bs4 import BeautifulSoup as soup\n",
    "from urllib.request import urlopen, Request\n",
    "from nltk.sentiment.vader import SentimentIntensityAnalyzer\n",
    "\n",
    "url = 'https://finviz.com/quote.ashx?t=TSLA'\n",
    "\n",
    "req = Request(url,headers={'User-Agent': 'Mozilla/5.0'})\n",
    "webpage = urlopen(req).read()\n",
    "html = soup(webpage,\"html.parser\")"
   ]
  },
  {
   "cell_type": "code",
   "execution_count": null,
   "metadata": {},
   "outputs": [],
   "source": [
    "pred_appended_data = tsla_data[input_vector_length:]\n",
    "predictions = np.append(train_predictions, test_predictions)\n",
    "\n",
    "pred_appended_data['Predictions'] = predictions\n",
    "\n",
    "labels = []\n",
    "for i in range(0,len(pred_appended_data)):\n",
    "    row = pred_appended_data.iloc[i]\n",
    "    if row['Close'] > row['Open']:\n",
    "        labels.append(1)\n",
    "    else:\n",
    "        labels.append(0)\n",
    "\n",
    "training_data = pred_appended_data"
   ]
  },
  {
   "cell_type": "code",
   "execution_count": null,
   "metadata": {},
   "outputs": [],
   "source": [
    "training_data = training_data[1:] # remove the empty first row\n",
    "labels = labels[1:] # remove the corresponding prediction\n",
    "training_data = training_data.drop([\"Date\"], axis=1)"
   ]
  },
  {
   "cell_type": "code",
   "execution_count": null,
   "metadata": {},
   "outputs": [],
   "source": [
    "from sklearn.model_selection import train_test_split\n",
    "\n",
    "X_train, X_test, y_train, y_test = train_test_split(training_data, labels, test_size=0.3,random_state=109) # 70% training and 30% test\n",
    "\n",
    "scaler = MinMaxScaler(feature_range=(0,1)).fit(X_train)\n",
    "X_train = scaler.transform(X_train)\n",
    "X_test = scaler.transform(X_test)"
   ]
  },
  {
   "cell_type": "code",
   "execution_count": null,
   "metadata": {},
   "outputs": [],
   "source": [
    "from sklearn.model_selection import GridSearchCV\n",
    "\n",
    "from sklearn.svm import SVC\n",
    "\n",
    "#Create a random forest classifier\n",
    "clf = SVC() # Linear Kernel\n",
    "\n",
    "\n",
    "param_dict_svm = {\n",
    "    'C': [0.1,1, 10, 100],\n",
    "    'gamma': [1,0.1,0.01,0.001],\n",
    "    'kernel': ['linear','rbf', 'poly', 'sigmoid'],\n",
    "}\n",
    "\n",
    "grid = GridSearchCV(clf,param_dict_svm,refit=True,verbose=2)\n",
    "grid.fit(X_train,y_train)\n",
    "\n",
    "y_pred = grid.predict(X_test)"
   ]
  },
  {
   "cell_type": "code",
   "execution_count": null,
   "metadata": {},
   "outputs": [],
   "source": [
    "from sklearn.metrics import confusion_matrix, accuracy_score\n",
    "\n",
    "print(accuracy_score(y_pred, y_test))\n",
    "print(confusion_matrix(y_pred, y_test))"
   ]
  },
  {
   "cell_type": "code",
   "execution_count": null,
   "metadata": {},
   "outputs": [],
   "source": []
  }
 ],
 "metadata": {
  "kernelspec": {
   "display_name": "Python 3.9.13 ('base')",
   "language": "python",
   "name": "python3"
  },
  "language_info": {
   "name": "python",
   "version": "3.9.13"
  },
  "orig_nbformat": 4,
  "vscode": {
   "interpreter": {
    "hash": "225109655d08242af5309ac11ae5b113ec8963070316f6f804450669f46d8106"
   }
  }
 },
 "nbformat": 4,
 "nbformat_minor": 2
}
